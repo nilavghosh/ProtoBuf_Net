{
 "cells": [
  {
   "cell_type": "markdown",
   "metadata": {},
   "source": [
    "# Assignment 1\n",
    "**CS283 Computer Vision, Harvard University, Fall 2019**\n",
    "\n",
    "**Due Wednesday, Sep. 18, at 5:00pm**\n",
    "\n",
    "Name: *(<font color=red>fill name here</font>)*\n",
    "\n",
    "---"
   ]
  },
  {
   "cell_type": "markdown",
   "metadata": {},
   "source": [
    "The intended outcomes of this assignment are for you to be familiar with Python as a tool for manipulating images and to deepen your understanding of model-fitting and the two-dimensional projective plane. There is a **Hints and Information** section at the end of this document that is likely to help you a lot. This will be a common feature in future assignments.\n",
    "\n",
    "Assignments in this course will use Python 3. The skeleton code we provide will only be tested on JupyterHub (via the course webpage) using a Python 3 notebook and certain pre-installed packages (inlcuding numpy, scipy, and opencv). Likewise, we expect any code that you submit to execute in the course's JupyterHub environment.\n",
    "\n",
    "The input image files that are required to complete this assignment can be found in the <tt>pset1.zip</tt> archive that accompanies this notebook on the course website. Be sure to upload this ZIP archive tp JupterHub before running the notebook's first cell (which unpacks the archive into a <tt>./pset1</tt> folder). This will be another common feature in future assignments.\n",
    "\n",
    "You will submit your work by editing this notebook and uploading it to the submission system on the course website. It is important that your submission executes and, as much as possible, maintains the notebook's original formatting. Submissions that do not execute or that deviate substantially in terms of formatting risk not being graded. Please read the **CS283 Assignment Submission Guidelines** for more detailed instructions.\n",
    "\n",
    "Remember that the online submission system closes *exactly* at the stated deadline. If you find yourself in the uncomfortable position of working very close to the deadline, we advise that you upload early and often."
   ]
  },
  {
   "cell_type": "code",
   "execution_count": null,
   "metadata": {
    "scrolled": false
   },
   "outputs": [],
   "source": [
    "# Extract required pset files \n",
    "\n",
    "import os             # for file handling\n",
    "import zipfile as zf  # For unpacking pset ZIP archives\n",
    "\n",
    "# Extract required pset files \n",
    "assert os.path.exists(\"./pset1.zip\"), 'Upload the pset ZIP archive and then re-run the cell.'\n",
    "files = zf.ZipFile(\"./pset1.zip\", 'r')\n",
    "files.extractall('.')\n",
    "files.close()"
   ]
  },
  {
   "cell_type": "code",
   "execution_count": null,
   "metadata": {},
   "outputs": [],
   "source": [
    "# Import other required libraries here\n",
    "import cv2           # OpenCV\n",
    "import numpy as np   # numpy\n",
    "\n",
    "# Use this line to make matplotlib plot inline (only need to call it once when importing matplotlib)\n",
    "%matplotlib inline\n",
    "\n",
    "import matplotlib.pyplot as plt\n",
    "# Modify this line to adjust the displayed plot size. You can also call\n",
    "# it with different parameters before specific plots.\n",
    "plt.rcParams['figure.figsize'] = [10, 10]"
   ]
  },
  {
   "cell_type": "markdown",
   "metadata": {},
   "source": [
    "## Question 1 (10 points)\n",
    "\n",
    "In the <tt>./pset1/data</tt> folder there is a color image called <tt>baboon.tif</tt>.  This image appears frequently in the image processing literature. \n",
    "\n",
    "**a.** Write a sequence of Python commands that loads the image using OpenCV and reports its height and width in pixels.\n",
    "\n",
    "*Hints: See OpenCV documentation for <tt>cv2.imread()</tt> and the <tt>shape</tt> attribute of numpy arrays. Use the built-in Python function <tt>print()</tt> for display text (and note that, unlike Python 2, Python 3 requires parentheses for this function). The <tt>format()</tt> method for string formatting may also be useful.*"
   ]
  },
  {
   "cell_type": "code",
   "execution_count": null,
   "metadata": {},
   "outputs": [],
   "source": [
    "# TO DO: your code here"
   ]
  },
  {
   "cell_type": "markdown",
   "metadata": {},
   "source": [
    "**b.**  Write a sequence of Python commands that converts this image to a grayscale image and displays it using the matplotlib package. In addition, display three other grayscale images that correspond to each of the three separate RGB color components. To do this you will need to understand the way OpenCV represents RGB images and how to decompose them.  Use the <tt>subplot</tt> command of the <tt>matplotlib.pyplot</tt> package to display the four results in a single row.\n",
    "\n",
    "*Hints: See OpenCV documentation for <tt>cv2.cvtColor()</tt> and matplotlib documentation for <tt>matplotlib.pyplot.imshow()</tt>. To pretty up your plots, see the commands <tt>matplotlib.pyplot.axis()</tt> and <tt>matplotlib.pyplot.title()</tt>. Also note that by default, OpenCV loads images in BGR order and not RGB.*"
   ]
  },
  {
   "cell_type": "code",
   "execution_count": null,
   "metadata": {
    "scrolled": true
   },
   "outputs": [],
   "source": [
    "# TO DO: your code here"
   ]
  },
  {
   "cell_type": "markdown",
   "metadata": {},
   "source": [
    "**c.** You can use the <tt>cv2.imwrite()</tt> command to write an image to a file in various formats with varying levels of compression. Write code that creates a new JPEG version of the original color image with a quality setting of 95 to the file <tt>baboon_compressed.jpg</tt>, and then reads and displays this new image next to the original image in a single row using <tt>subplot</tt>. Can you tell the difference between the compressed image and the original? "
   ]
  },
  {
   "cell_type": "code",
   "execution_count": null,
   "metadata": {},
   "outputs": [],
   "source": [
    "# TO DO: your code here"
   ]
  },
  {
   "cell_type": "markdown",
   "metadata": {},
   "source": [
    "### Answer:\n",
    "*TO DO: Write your answer here.*"
   ]
  },
  {
   "cell_type": "markdown",
   "metadata": {},
   "source": [
    "**d.** The compression ratio is the ratio between the size of the original file and the size of the compressed file (in bytes). The following cell will query the file sizes and report them. Based on the cell's output (you may need to modify the cell to point to the correct location of your compressed image file), what is the compression ratio for this quality setting of 0.95?"
   ]
  },
  {
   "cell_type": "code",
   "execution_count": null,
   "metadata": {},
   "outputs": [],
   "source": [
    "filesize = os.path.getsize('./pset1/data/baboon.tif')\n",
    "filesize_compressed = os.path.getsize('baboon_compressed.jpg')\n",
    "print(\"The original file is {} bytes and the compressed one is {} bytes\".format(filesize, filesize_compressed))"
   ]
  },
  {
   "cell_type": "markdown",
   "metadata": {},
   "source": [
    "### Answer:\n",
    "*TO DO: Write your answer here.*"
   ]
  },
  {
   "cell_type": "markdown",
   "metadata": {},
   "source": [
    "**e.** Write code in the following cell that allows you to experiment with the JPEG quality settings, allowing you to visually compare the original and compressed images and also see the compression ratio for any quality setting you desire. Using this code, determine the smallest quality value for which the compressed image is indistinguishable from the original. What is this quality value and what is the associated compression ratio?"
   ]
  },
  {
   "cell_type": "code",
   "execution_count": null,
   "metadata": {},
   "outputs": [],
   "source": [
    "# TO DO: your code here"
   ]
  },
  {
   "cell_type": "markdown",
   "metadata": {},
   "source": [
    "### Answer:\n",
    "\n",
    "*TO DO: Write your answer here.*"
   ]
  },
  {
   "cell_type": "markdown",
   "metadata": {},
   "source": [
    "## Question 2 (10 points)\n",
    "\n",
    "The <tt>./pset1/data</tt> folder contains another popular image, <tt>cameraman.tif</tt>.\n",
    "\n",
    "**a.** Write code that loads the image, converts it to grayscale, uses a random number generator to select exactly 10% of the pixels, and then replaces their gray-level values with independent, random integers uniformly distributed between 0 and 255. Display the result. Next, use subplot to display two more results beside this one, where the percentage of randomly replaced pixels in the original image is 25% and 50%, respectively. \n",
    "\n",
    "*Hints: The functions <tt>numpy.random.choice()</tt> and <tt>numpy.random.randint()</tt>, as well as the <tt>flat</tt> attribute of numpy arrays may be useful.*"
   ]
  },
  {
   "cell_type": "code",
   "execution_count": null,
   "metadata": {},
   "outputs": [],
   "source": [
    "# TO DO: your code here"
   ]
  },
  {
   "cell_type": "markdown",
   "metadata": {},
   "source": [
    "## Question 3 (30 points)\n",
    "\n",
    "There is a set of points $\\tilde{\\mathbf{x}}_i=(x_i,y_i)$ in the image plane and we want to find the best line passing through them. \n",
    "\n",
    "The next cell defines two functions that calculate the line in two different ways using two different measures of quality. In both functions, the input is two $N\\times 1$ numpy arrays with inhomogeneous coordinates, $\\{x_i\\}$ and $\\{y_i\\}$, of $N$ points. The output is the coordinates of a line $\\boldsymbol\\ell=(a,b,c)$.\n",
    "\n",
    "1. The function <tt>fit_line_vertical()</tt> solves the problem by finding $(a, c)$ (setting $b = 1$) that most closely satisfy the\n",
    "equations $y_i=-ax_i-c$, in a least-squares sense. It minimizes the sum of squares of vertical distances between the points and the line by encoding the constraints in matrix form\n",
    "\\begin{equation*}\n",
    "\\left.\n",
    "\\begin{array}{c}\n",
    "-a x_1 - c = y_1 \\\\\n",
    "-a x_2 - c = y_2 \\\\\n",
    "\\vdots \\\\\n",
    "-a x_N - c = y_N\n",
    "\\end{array} \\right\\} \\Rightarrow \\underbrace{\\begin{bmatrix}\n",
    "-x_1 & -1 \\\\\n",
    "-x_2 & -1 \\\\\n",
    "\\vdots & \\vdots \\\\\n",
    "-x_N & -1\n",
    "\\end{bmatrix}}_{\\bf A} \\cdot \\underbrace{\\begin{bmatrix}\n",
    "a \\\\\n",
    "c\n",
    "\\end{bmatrix}}_{\\bf v} = \\underbrace{\\begin{bmatrix}\n",
    "y_1 \\\\\n",
    "y_2 \\\\\n",
    "\\vdots \\\\\n",
    "y_N\n",
    "\\end{bmatrix}}_{\\bf b}\n",
    "\\end{equation*}\n",
    "and solving\n",
    "\\begin{equation*}\n",
    "\\text{arg}\\min_\\mathbf{v}\\|\\mathbf{A}\\mathbf{v}-\\mathbf{b}\\|^2.\n",
    "\\end{equation*}\n",
    "\n",
    "2. The function <tt>fit_line_homogeneous()</tt> solves the problem by finding $\\boldsymbol\\ell=(a,\\ b,\\ c)$ that most closely satisfies the equations $ax_i+by_i+c=0$, in a least-squares sense. That is, it minimizes the sum of homogeneous algebraic errors, $\\sum\\left(\\boldsymbol\\ell^\\top \\mathbf{x}_i\\right)^2$ with $\\mathbf{x}_i\\triangleq(x_i,y_i,1)$. It does this by encoding the constraints in matrix form\n",
    "\\begin{equation*}\n",
    "\\underbrace{\\begin{bmatrix}\n",
    "x_1 & y_1 & 1 \\\\\n",
    "x_2 & y_2 & 1 \\\\\n",
    "\\vdots & \\vdots \\\\\n",
    "x_N & y_N & 1 \\\\\n",
    "\\end{bmatrix}}_{\\bf A} \\cdot \\underbrace{\\begin{bmatrix}\n",
    "a \\\\\n",
    "b \\\\\n",
    "c\n",
    "\\end{bmatrix}}_{\\boldsymbol\\ell} = \\underbrace{\\begin{bmatrix}\n",
    "0 \\\\\n",
    "0 \\\\\n",
    "\\vdots \\\\\n",
    "0\n",
    "\\end{bmatrix}}_{\\bf 0}\n",
    "\\end{equation*}\n",
    "and solving\n",
    "\\begin{equation*}\n",
    "\\text{arg}\\min_\\boldsymbol\\ell\\|\\mathbf{A}\\boldsymbol\\ell\\|^2\\quad \\text{ such that } \\|\\boldsymbol\\ell\\|=1.\n",
    "\\end{equation*}"
   ]
  },
  {
   "cell_type": "code",
   "execution_count": null,
   "metadata": {},
   "outputs": [],
   "source": [
    "def fit_line_vertical(x, y):\n",
    "    # Method A: linear regression (vertical distance)\n",
    "    \n",
    "    # Construct the Nx2 \"A matrix\"\n",
    "    A = -np.concatenate([x[:, np.newaxis], np.ones((x.size, 1))], axis=1)\n",
    "\n",
    "    # Least squares solution\n",
    "    l = np.linalg.lstsq(A, y, rcond=None)[0]\n",
    "\n",
    "    # Format line as (a,b,c)\n",
    "    return l[0], 1.0, l[1]\n",
    "\n",
    "def fit_line_homogeneous(x, y):\n",
    "    # Method B: Naive homogeneous\n",
    "    \n",
    "    # Construct the \"A matrix\"\n",
    "    A = np.concatenate([x[:, np.newaxis], y[:, np.newaxis], np.ones((x.size, 1))], axis=1)\n",
    "\n",
    "    # SVD\n",
    "    _, _, V = np.linalg.svd(A)\n",
    "\n",
    "    # Extract last column of V matrix (note that np.linalg.svd() returns a transposed version of V)\n",
    "    l = V[2, :]\n",
    "\n",
    "    return l"
   ]
  },
  {
   "cell_type": "markdown",
   "metadata": {},
   "source": [
    "**a.** Write code that loads the image <tt>dots.tif</tt> (from the <tt>./pset1/data</tt> folder, as usual) and: i) detects the red, green, and  blue points and obtain their $(x,y)$ image coordinates; ii) calls the functions <tt>fit_line_vertical()</tt> and <tt>fit_line_homogeneous()</tt> to fit two different lines to each set of points; and iii) plots these lines (two lines for each color) superimposed on the image.\n",
    "\n",
    "*Hints: The functions <tt>numpy.nonzero()</tt>, <tt>numpy.concatenate()</tt>, and <tt>numpy.bitwise_and()</tt> may be useful. You may also want to use <tt>matplotlib.pyplot.xlim()</tt> and <tt>matplotlib.pyplot.ylim()</tt> for plotting. Note that flipping the limits in <tt>matplotlib.pyplot.ylim()</tt> flips the y axis, which may be desirable for images.*"
   ]
  },
  {
   "cell_type": "code",
   "execution_count": null,
   "metadata": {},
   "outputs": [],
   "source": [
    "# TO DO: your code here"
   ]
  },
  {
   "cell_type": "markdown",
   "metadata": {},
   "source": [
    "**b.** Neither of the two solutions from part (a) minimize the sum of squares of perpendicular distances between the points and the line, which for a single point is \n",
    "\n",
    "\\begin{equation*}\n",
    " \\frac{|a x_i + b y_i + c|}{\\sqrt{a^2 + b^2}}.\n",
    "\\end{equation*}\n",
    "\n",
    "Write code for a new function <tt>fit_line_perpendicular()</tt> that has the same input and output as the previous functions but that provides a solution that minimizes the sum of squares of perpendicular distances.\n",
    "\n",
    "Also, write code (adapted from (a)) that calls the function <tt>fit_line_perpendicular()</tt> and plots the fitted lines (one line for each color) superimposed on the image <tt>dots.tif</tt>."
   ]
  },
  {
   "cell_type": "code",
   "execution_count": null,
   "metadata": {},
   "outputs": [],
   "source": [
    "# TO DO: your code here"
   ]
  },
  {
   "cell_type": "markdown",
   "metadata": {},
   "source": [
    "**c.** These lines do not intersect at a point, but we can find a point that comes \"closest\" to a three-way intersection by finding the point that minimizes the sum of squared perpendicular distances from the point to the three lines found in part (b). For this, you should create a procedure that is analogous to the method you implemented in part (b): formulate and solve an appropriate linear system of the form ${\\bf A}{\\bf x}={\\bf 0}$ with constraints on the solution ${\\bf x}$. Using words and equations, describe your construction of such a constrained linear system and explain why its solution is the minimum of the sum of squared perpendicular distances. Write code that implements your constructioon, computes the \"best point\", and displays this point superimposed on the image and with the three lines found in (b)."
   ]
  },
  {
   "cell_type": "markdown",
   "metadata": {},
   "source": [
    "### Answer:\n",
    "\n",
    "*TO DO: Write your answer here.*"
   ]
  },
  {
   "cell_type": "code",
   "execution_count": null,
   "metadata": {
    "scrolled": false
   },
   "outputs": [],
   "source": [
    "# TO DO: your code here"
   ]
  },
  {
   "cell_type": "markdown",
   "metadata": {},
   "source": [
    "## Question 4 (20 points)\n",
    "\n",
    "In the presence of outliers, we require more robust techniques for model fitting. RANSAC is one such method that is both useful and conceptually simple."
   ]
  },
  {
   "cell_type": "markdown",
   "metadata": {},
   "source": [
    "**a.** Write code that loads the image <tt>./pset1/data/dots_outliers.tif</tt>, detects the coordinates of the white pixels in the image and then calls your function <tt>fit_line_perpendicular()</tt> to fit a line to these inlying points. Also, write code that displays your result superimposed on the image. Note that, in this case, the image is black-and-white, with the points being white (you may need to zoom-in to see the points clearly)."
   ]
  },
  {
   "cell_type": "code",
   "execution_count": null,
   "metadata": {},
   "outputs": [],
   "source": [
    "# TO DO: your code here"
   ]
  },
  {
   "cell_type": "markdown",
   "metadata": {},
   "source": [
    "**b.** Write code that uses RANSAC to improve the fit and draw a better line, by first identifying a subset of inlying, nearly-collinear points, and then applying <tt>fit_line_perpendicular()</tt> to the inliers. We suggest that the number of iterations be 100 and the threshold used to determine the inlying set for each iteration be a distance of 20 pixels (as defined in the code below). Display your lines from both (a) and (b) together, superimposed on the original image.\n"
   ]
  },
  {
   "cell_type": "code",
   "execution_count": null,
   "metadata": {},
   "outputs": [],
   "source": [
    "num_iter = 100         # number of RANSAC iterations\n",
    "inlier_threshold = 20  # threshold for inlier set of each line\n",
    "\n",
    "# TO DO: your code here"
   ]
  },
  {
   "cell_type": "markdown",
   "metadata": {},
   "source": [
    "## Question 5 (10 points)\n",
    "\n",
    "Following Hartley & Zisserman, the notation in this question is such that ${\\bf x}$ and $\\tilde{\\bf x}$ indicate homogeneous and inhomogeneous vectors, respectively. \n",
    "\n",
    "Consider a right triangle with vertices $\\tilde{\\bf x}_1=(0,\\ 0)$, $\\tilde{\\bf x}_2=(m,\\  0)$ and $\\tilde{\\bf x}_3=(0,\\ m)$, and suppose this triangle is warped by an affine transformation such that\n",
    "\\begin{equation}\\label{eq:affine}\n",
    "\\left(\\begin{array}{c} x' \\\\ y' \\\\ 1\\end{array}\\right)=\n",
    "\\left[\\begin{array}{ccc} a_{11} & a_{12} & t_x \\\\ a_{21} & a_{22} & t_y \\\\ 0 & 0 & 1\\end{array}\\right]\n",
    "\\left(\\begin{array}{c} x \\\\ y \\\\ 1\\end{array}\\right),\\nonumber\n",
    "\\end{equation}\n",
    "or ${\\bf x}'={\\bf A}{\\bf x}$.  Derive an expression for the area of the warped triangle defined by $\\tilde{\\bf x}'_1$, $\\tilde{\\bf x}'_2$ and $\\tilde{\\bf x}'_3$.  Use this expression to prove that if two right triangles (with $m=m_1$ and\n",
    "$m=m_2$) are warped by the same affine transformation, the ratio of their areas is preserved.\n",
    "\n"
   ]
  },
  {
   "cell_type": "markdown",
   "metadata": {},
   "source": [
    "### Answer:\n",
    "\n",
    "*TO DO: Write your answer here.*"
   ]
  },
  {
   "cell_type": "markdown",
   "metadata": {},
   "source": [
    "## Hints and Information\n",
    "\n",
    "- For help with Python itself, use the Python 3.7 [documentation](https://docs.python.org/3.7/). Throughout the course we will be using popular libraries such as [OpenCV](https://opencv.org/), [numpy, scipy](https://docs.scipy.org/doc/numpy/reference/) and [matplotlib](https://matplotlib.org/), all of which have documentation available online. For refreshing your numpy knowledge, we highly recommend going through a basic numpy tutorial [here](https://docs.scipy.org/doc/numpy/user/quickstart.html). OpenCV is a package for image processing and computer vision which we will be using heavily throughout the course. It stores images and other data as numpy arrays, and therefore we will be working with numpy a lot.\n",
    "\n",
    "-  A linear least-squares problem is one in which we want to determine the vector ${\\bf x}$ that best satisfies a set of inconsistent linear constraints ${\\bf A}{\\bf x}={\\bf b}$ in the sense of minimum square error. That is, we wish to solve:\n",
    "\\begin{equation}\n",
    "{\\bf x}^*=\\textrm{arg}\\min_{\\bf x} ||{\\bf A}{\\bf x}-{\\bf b}||^2 =\\textrm{arg}\\min_{\\bf x} ({\\bf A}{\\bf x}-{\\bf b})^\\top({\\bf A}{\\bf x}-{\\bf b}).\n",
    "\\end{equation}\n",
    "The solution is found in closed-form by differentiating the objective function with respect to ${\\bf x}$ and equating the result to zero. This yields\n",
    "\\begin{equation}\n",
    "{\\bf x}^*= ({\\bf A}^\\top{\\bf A})^{-1}{\\bf A}^\\top{\\bf b}.\n",
    "\\end{equation}\n",
    "In the above expression, the inverse is used only for notational purpose. The explicit calculation of $({\\bf\n",
    "A}^\\top{\\bf A})^{-1}$ is *very bad practice*, because finding the inverse is both very\n",
    "expensive and [numerically unstable](http://blogs.mathworks.com/loren/2007/05/16/purpose-of-inv/). Instead, it is better to use a method such as QR factorization to solve the (consistent) linear system $({\\bf A}^\\top{\\bf A}){\\bf x}={\\bf A}^\\top{\\bf b}$, sometimes called the *normal equation* of the original linear system. In order to solve linear least squares problems in such a way we can use <tt>numpy.linalg.lstsq()</tt> or <tt>numpy.linalg.solve()</tt> (similar to doing <tt>x = A \\ b</tt> in MATLAB).\n",
    "\n",
    "- Based on the \"CS283 Assignment Submission Guidelines\", your submission should have the following file structure:\n",
    "\n",
    "<tt>lastname_firstname_psetx.zip</tt><br>\n",
    "&emsp;&emsp;<tt>+-- lastname_firstname_psetx.ipynb.............</tt>Jupyter notebook <span style=\"background-color:yellow\">with all code, $\\LaTeX$ answers, and output.</span><br>\n",
    "&emsp;&emsp;<tt>+-- lastname_firstname_psetx.html..............</tt>HTML version of notebook <span style=\"background-color:yellow\">with all code, $\\LaTeX$ answers, and output.</span><br>\n",
    "&emsp;&emsp;<tt>+-- src/.......................................</tt>External python functions required by the notebook (none for pset1).<br>\n",
    "&emsp;&emsp;<tt>+-- img/.......................................</tt>Images embedded in notebook (none expected for pset1).<br>\n",
    "&emsp;&emsp;<tt>+-- data/......................................</tt>Image and other data files for the notebook, such as <tt>cameraman.tif</tt> and <tt>baboon.tif</tt>.<br>"
   ]
  }
 ],
 "metadata": {
  "kernelspec": {
   "display_name": "python3",
   "language": "python",
   "name": "python3"
  },
  "language_info": {
   "codemirror_mode": {
    "name": "ipython",
    "version": 3
   },
   "file_extension": ".py",
   "mimetype": "text/x-python",
   "name": "python",
   "nbconvert_exporter": "python",
   "pygments_lexer": "ipython3",
   "version": "3.7.3"
  }
 },
 "nbformat": 4,
 "nbformat_minor": 2
}
